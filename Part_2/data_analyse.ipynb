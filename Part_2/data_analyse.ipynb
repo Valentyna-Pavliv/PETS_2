{
 "cells": [
  {
   "cell_type": "code",
   "execution_count": 1,
   "metadata": {
    "scrolled": true
   },
   "outputs": [],
   "source": [
    "import numpy as np\n",
    "import matplotlib.pyplot as plt\n",
    "import random\n",
    "import matplotlib.cm as cm\n",
    "from matplotlib.ticker import (AutoMinorLocator, MultipleLocator)"
   ]
  },
  {
   "cell_type": "code",
   "execution_count": null,
   "metadata": {},
   "outputs": [],
   "source": []
  },
  {
   "cell_type": "markdown",
   "metadata": {},
   "source": [
    "# Load files"
   ]
  },
  {
   "cell_type": "code",
   "execution_count": 2,
   "metadata": {},
   "outputs": [],
   "source": [
    "# %load grid.py\n",
    "import bisect\n",
    "\n",
    "## Grid parameters\n",
    "# Top left corner of the area\n",
    "MAP_LAT = 46.5\n",
    "MAP_LON = 6.55\n",
    "\n",
    "# Total area size\n",
    "MAP_SIZE_LAT = 0.07\n",
    "MAP_SIZE_LON = 0.10\n",
    "\n",
    "# Number of cells\n",
    "CELL_NUM_LAT = 10\n",
    "CELL_NUM_LON = 10\n",
    "\n",
    "# Grid lines\n",
    "GRID_LAT_POINTS = [MAP_LAT + i * (MAP_SIZE_LAT / CELL_NUM_LAT)\n",
    "                   for i in range(1, CELL_NUM_LAT + 1)]\n",
    "GRID_LON_POINTS = [MAP_LON + i * (MAP_SIZE_LON / CELL_NUM_LON)\n",
    "                   for i in range(1, CELL_NUM_LON + 1)]\n",
    "\n",
    "\n",
    "def location_to_cell_id(lat, lon):\n",
    "    \"\"\"Get the grid cell ID for a given latitude and longitude.\"\"\"\n",
    "    if not (MAP_LAT <= lat < MAP_LAT + MAP_SIZE_LAT) or not (\n",
    "        MAP_LON <= lon < MAP_LON + MAP_SIZE_LON\n",
    "    ):\n",
    "        raise ValueError(\"Out of area range.\")\n",
    "\n",
    "    i = bisect.bisect(GRID_LAT_POINTS, lat)\n",
    "    j = bisect.bisect(GRID_LON_POINTS, lon)\n",
    "    return i * CELL_NUM_LAT + j + 1\n"
   ]
  },
  {
   "cell_type": "code",
   "execution_count": 3,
   "metadata": {},
   "outputs": [],
   "source": [
    "f_queries = open(\"queries.csv\", \"r\")\n",
    "queries = f_queries.read()\n",
    "\n",
    "f_pois = open(\"pois.csv\", \"r\")\n",
    "pois = f_pois.read()"
   ]
  },
  {
   "cell_type": "code",
   "execution_count": 34,
   "metadata": {},
   "outputs": [],
   "source": [
    "# some useful function\n",
    "\n",
    "def is_weekend_day(float_nb):\n",
    "    return (float_nb>=120 and float_nb<=168) or (float_nb>=288 and float_nb<=336) or (float_nb>=456)\n",
    "\n",
    "def is_weekday(float_nb):\n",
    "    return not is_weekend_day(float_nb)\n",
    "\n",
    "def is_worktime(float_nb):\n",
    "    #worktime = between 9->12 and 14->17h \n",
    "    return is_weekday(float_nb)and(((float_nb%24>=9)and(float_nb%24<12))or((float_nb%24>=14)and(float_nb%24<17)))\n",
    "\n",
    "def is_hometime(float_nb):\n",
    "    #hometime = weekend or between 10PM -> 6AM\n",
    "    return (is_weekday(float_nb)and((float_nb%24<=6) or (float_nb%24>=22)))\n",
    "    #is_weekend_day(float_nb)or"
   ]
  },
  {
   "cell_type": "code",
   "execution_count": null,
   "metadata": {},
   "outputs": [],
   "source": []
  },
  {
   "cell_type": "code",
   "execution_count": 47,
   "metadata": {},
   "outputs": [],
   "source": [
    "#some functions given a ip address: \n",
    "#here the format of everything_list is assumed to be list[list[ip_add, lat, lon, timestamp, poi]] everythin as string\n",
    "\n",
    "def get_pois(ip, everything_list):\n",
    "    return set([x[4] for x in everything_list if(x[0]==ip)])\n",
    "\n",
    "def get_positions(ip, everything_list):\n",
    "    l = [(float(x[1]), float(x[2])) for x in everything_list if(x[0]==ip)]\n",
    "    return ([i for i,j in l], [j for i,j in l])\n",
    "\n",
    "def get_positions_work(ip, everything_list):\n",
    "    l = [(float(x[1]), float(x[2])) for x in everything_list if(x[0]==ip and is_worktime(float(x[3])))]\n",
    "    return ([i for i,j in l], [j for i,j in l])\n",
    "\n",
    "def get_positions_home(ip, everything_list):\n",
    "    set_all = set([(float(x[1]), float(x[2])) for x in everything_list if(x[0]==ip)])\n",
    "    set_work = set([(float(x[1]), float(x[2])) for x in everything_list if(x[0]==ip and is_worktime(float(x[3])))])\n",
    "    #l = [(float(x[1]), float(x[2])) for x in everything_list if(x[0]==ip and not(is_worktime(float(x[3]))))]\n",
    "    l =list(set_all-set_work)\n",
    "    return ([i for i,j in l], [j for i,j in l])\n",
    "    \n",
    "\n",
    "def get_work_pois(ip, everything_list):\n",
    "    return set([x[4] for x in everything_list if(x[0]==ip and is_worktime(float(x[3])))])\n",
    "\n",
    "def get_hobby_pois(ip, everything_list):\n",
    "    return set([x[4] for x in everything_list if(x[0]==ip and not(is_worktime(float(x[3]))))])\n",
    "\n",
    "def get_work_cell(ip, everything_list):\n",
    "    l = [(float(x[1]), float(x[2])) for x in everything_list if(x[0]==ip and is_worktime(float(x[3])))]\n",
    "    return set([location_to_cell_id(x, y) for x,y in l])\n",
    "\n",
    "def get_home_cell(ip, everything_list):\n",
    "    l = [(float(x[1]), float(x[2])) for x in everything_list if(x[0]==ip and is_hometime(float(x[3])))]\n",
    "    return set([location_to_cell_id(x, y) for x,y in l])\n",
    "    \n",
    "    \n",
    "    \n",
    "    "
   ]
  },
  {
   "cell_type": "code",
   "execution_count": null,
   "metadata": {},
   "outputs": [],
   "source": []
  },
  {
   "cell_type": "code",
   "execution_count": 6,
   "metadata": {},
   "outputs": [],
   "source": [
    "with open(\"queries.csv\", \"r\") as f_queries:\n",
    "    queries = f_queries.readlines()\n",
    "    \n",
    "    queries = [q.split() for q in queries][1:]\n",
    "    \n",
    "    ip_set = set([x[0] for x in queries])"
   ]
  },
  {
   "cell_type": "code",
   "execution_count": 7,
   "metadata": {},
   "outputs": [
    {
     "name": "stdout",
     "output_type": "stream",
     "text": [
      "12\n",
      "{'laboratory', 'gym', 'bar', 'cafeteria', 'villa', 'dojo', 'appartment_block', 'office', 'company', 'supermarket', 'restaurant', 'club'}\n"
     ]
    }
   ],
   "source": [
    "with open(\"pois.csv\", \"r\") as f_pois:\n",
    "    pois = f_pois.readlines()\n",
    "    pois = [p.split() for p in pois][1:]\n",
    "\n",
    "all_pois = set([x[2] for x in pois])\n",
    "\n",
    "print(len(all_pois))\n",
    "print(all_pois)"
   ]
  },
  {
   "cell_type": "code",
   "execution_count": 46,
   "metadata": {},
   "outputs": [
    {
     "name": "stdout",
     "output_type": "stream",
     "text": [
      "{(46.513245569065845, 6.61495877973916), (46.503637844877005, 6.6276736078942475), (46.507692844471755, 6.6109719577603165), (46.510650386991706, 6.618873471481859), (46.54267878942992, 6.593287653940389), (46.507164978818096, 6.611651383555449), (46.531421408573365, 6.601382746325085), (46.50954670732587, 6.614296876569411), (46.555947707205696, 6.626944478678066)}\n",
      "{(46.507692844471755, 6.6109719577603165), (46.54267878942992, 6.593287653940389)}\n",
      "{(46.507164978818096, 6.611651383555449), (46.531421408573365, 6.601382746325085), (46.503637844877005, 6.6276736078942475), (46.510650386991706, 6.618873471481859), (46.513245569065845, 6.61495877973916), (46.50954670732587, 6.614296876569411), (46.555947707205696, 6.626944478678066)}\n",
      "9\n",
      "2\n",
      "7\n",
      "[(46.507164978818096, 6.611651383555449), (46.531421408573365, 6.601382746325085), (46.503637844877005, 6.6276736078942475), (46.510650386991706, 6.618873471481859), (46.513245569065845, 6.61495877973916), (46.50954670732587, 6.614296876569411), (46.555947707205696, 6.626944478678066)]\n"
     ]
    }
   ],
   "source": [
    "set_all_pos = set([(float(x[1]), float(x[2])) for x in queries if(x[0]=='121.229.130.24')])\n",
    "print(set_all_pos)\n",
    "\n",
    "set_work_pos = set([(float(x[1]), float(x[2])) for x in queries if(x[0]=='121.229.130.24' and is_worktime(float(x[3])))])\n",
    "print(set_work_pos)\n",
    "\n",
    "print(set_all_pos-set_work_pos)\n",
    "print(len(set_all_pos))\n",
    "print(len(set_work_pos))\n",
    "print(len(set_all_pos-set_work_pos))\n",
    "\n",
    "print(list(set_all_pos-set_work_pos))"
   ]
  },
  {
   "cell_type": "code",
   "execution_count": 14,
   "metadata": {},
   "outputs": [],
   "source": [
    "colors = [\"#\"+''.join([random.choice('0123456789ABCDEF') for j in range(6)])\n",
    "             for i in range(200)]"
   ]
  },
  {
   "cell_type": "code",
   "execution_count": 16,
   "metadata": {},
   "outputs": [],
   "source": [
    "colors2 = [\"#\"+''.join([random.choice('0123456789ABCDEF') for j in range(6)])\n",
    "             for i in range(200)]"
   ]
  },
  {
   "cell_type": "code",
   "execution_count": 18,
   "metadata": {},
   "outputs": [],
   "source": [
    "colors3 = [\"#\"+''.join([random.choice('0123456789ABCDEF') for j in range(6)])\n",
    "             for i in range(200)]"
   ]
  },
  {
   "cell_type": "code",
   "execution_count": 49,
   "metadata": {
    "scrolled": false
   },
   "outputs": [
    {
     "data": {
      "image/png": "[encoded data removed]",
      "text/plain": [
       "<Figure size 720x576 with 1 Axes>"
      ]
     },
     "metadata": {
      "needs_background": "light"
     },
     "output_type": "display_data"
    }
   ],
   "source": [
    "points1 = get_positions(\"34.101.177.245\", queries)    \n",
    "points2 = get_positions(\"244.190.169.115\", queries)\n",
    "points3 = get_positions(\"191.78.122.246\", queries)\n",
    "\n",
    "\n",
    "data = [get_positions_home(ip, queries) for ip in list(ip_set)[190:]]\n",
    "\n",
    "#colors = [\"#\"+''.join([random.choice('0123456789ABCDEF') for j in range(6)])\n",
    "#             for i in range(200)]\n",
    "#colors = cm.rainbow(np.linspace(0, 1, 10))\n",
    "\n",
    "grid_elem_lat = [MAP_LAT]\n",
    "grid_elem_lat.extend(GRID_LAT_POINTS)\n",
    "lat_space = grid_elem_lat[1]-grid_elem_lat[0]\n",
    "\n",
    "\n",
    "grid_elem_lon = [MAP_LON]\n",
    "grid_elem_lon.extend(GRID_LON_POINTS)\n",
    "lon_space = grid_elem_lon[3]-grid_elem_lon[2]\n",
    "\n",
    "\n",
    "fig, ax = plt.subplots(figsize=(10, 8))\n",
    "\n",
    "\n",
    "for data, color in zip(data, colors2):\n",
    "    x, y = data\n",
    "    ax.scatter(x, y, c=color)\n",
    "\n",
    "\n",
    "    \n",
    "ax.set_xlim(grid_elem_lat[0], grid_elem_lat[10])\n",
    "ax.set_ylim(grid_elem_lon[0], grid_elem_lon[10])\n",
    "\n",
    "ax.set_xticks(grid_elem_lat)\n",
    "ax.set_yticks(grid_elem_lon)\n",
    "\n",
    "\n",
    "\n",
    "ax.set_xlabel(\"Latitude\")\n",
    "ax.set_ylabel(\"Longitude\")\n",
    "\n",
    "\n",
    "plt.grid(True)\n",
    "plt.savefig('locations_home10.jpg')\n",
    "plt.show()"
   ]
  },
  {
   "cell_type": "code",
   "execution_count": 10,
   "metadata": {},
   "outputs": [],
   "source": [
    "data = [[ip, get_pois(ip, queries)] for ip in list(ip_set)[190:]]"
   ]
  },
  {
   "cell_type": "code",
   "execution_count": 11,
   "metadata": {},
   "outputs": [
    {
     "name": "stdout",
     "output_type": "stream",
     "text": [
      "Requirement already satisfied: prettytable in /home/valia/snap/jupyter/common/lib/python3.7/site-packages (0.7.2)\n",
      "Note: you may need to restart the kernel to use updated packages.\n"
     ]
    }
   ],
   "source": []
  },
  {
   "cell_type": "code",
   "execution_count": 12,
   "metadata": {},
   "outputs": [
    {
     "name": "stdout",
     "output_type": "stream",
     "text": [
      "+-----------------+------------------------------------------------------------+\n",
      "|    ip address   |                            POIs                            |\n",
      "+-----------------+------------------------------------------------------------+\n",
      "|  121.229.130.24 |        {'restaurant', 'club', 'dojo', 'cafeteria'}         |\n",
      "|  78.204.108.127 |     {'restaurant', 'supermarket', 'club', 'cafeteria'}     |\n",
      "|  204.146.211.61 | {'gym', 'cafeteria', 'restaurant', 'supermarket', 'club'}  |\n",
      "|  84.37.183.178  | {'bar', 'cafeteria', 'dojo', 'restaurant', 'supermarket'}  |\n",
      "|  140.81.135.193 |     {'gym', 'bar', 'cafeteria', 'dojo', 'restaurant'}      |\n",
      "| 130.144.146.191 | {'gym', 'bar', 'cafeteria', 'dojo', 'restaurant', 'club'}  |\n",
      "|   34.34.64.234  |         {'restaurant', 'club', 'bar', 'cafeteria'}         |\n",
      "|  152.115.234.99 |        {'restaurant', 'club', 'dojo', 'cafeteria'}         |\n",
      "|  88.32.125.209  | {'cafeteria', 'dojo', 'restaurant', 'supermarket', 'club'} |\n",
      "|   210.229.8.27  |  {'gym', 'bar', 'cafeteria', 'restaurant', 'supermarket'}  |\n",
      "+-----------------+------------------------------------------------------------+\n"
     ]
    }
   ],
   "source": [
    "from prettytable import PrettyTable\n",
    "t = PrettyTable(['ip address', 'POIs'])\n",
    "\n",
    "for row in data:\n",
    "    t.add_row(row)\n",
    "    \n",
    "print(t)"
   ]
  },
  {
   "cell_type": "code",
   "execution_count": 13,
   "metadata": {},
   "outputs": [
    {
     "name": "stdout",
     "output_type": "stream",
     "text": [
      "ip address       work POIs\n",
      "---------------  ----------------------------------------------------------\n",
      "121.229.130.24   {'restaurant', 'club', 'dojo', 'cafeteria'}\n",
      "78.204.108.127   {'supermarket', 'restaurant', 'club', 'cafeteria'}\n",
      "204.146.211.61   {'gym', 'cafeteria', 'restaurant', 'supermarket', 'club'}\n",
      "84.37.183.178    {'bar', 'cafeteria', 'dojo', 'restaurant', 'supermarket'}\n",
      "140.81.135.193   {'gym', 'bar', 'cafeteria', 'dojo', 'restaurant'}\n",
      "130.144.146.191  {'gym', 'bar', 'cafeteria', 'dojo', 'restaurant', 'club'}\n",
      "34.34.64.234     {'restaurant', 'club', 'bar', 'cafeteria'}\n",
      "152.115.234.99   {'restaurant', 'club', 'dojo', 'cafeteria'}\n",
      "88.32.125.209    {'cafeteria', 'dojo', 'restaurant', 'supermarket', 'club'}\n",
      "210.229.8.27     {'gym', 'bar', 'cafeteria', 'restaurant', 'supermarket'}\n"
     ]
    }
   ],
   "source": [
    "from tabulate import tabulate\n",
    "print(tabulate(data, headers=['ip address', 'work POIs', 'hobby POIs']))"
   ]
  }
 ],
 "metadata": {
  "kernelspec": {
   "display_name": "Python 3",
   "language": "python",
   "name": "python3"
  },
  "language_info": {
   "codemirror_mode": {
    "name": "ipython",
    "version": 3
   },
   "file_extension": ".py",
   "mimetype": "text/x-python",
   "name": "python",
   "nbconvert_exporter": "python",
   "pygments_lexer": "ipython3",
   "version": "3.7.3"
  }
 },
 "nbformat": 4,
 "nbformat_minor": 1
}
