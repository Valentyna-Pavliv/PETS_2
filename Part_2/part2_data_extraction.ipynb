{
 "cells": [
  {
   "cell_type": "code",
   "execution_count": null,
   "metadata": {
    "scrolled": true
   },
   "outputs": [],
   "source": [
    "import numpy as np\n",
    "import matplotlib.pyplot as plt\n",
    "import random\n",
    "import matplotlib.cm as cm\n",
    "from matplotlib.ticker import (AutoMinorLocator, MultipleLocator)\n",
    "from prettytable import PrettyTable"
   ]
  },
  {
   "cell_type": "code",
   "execution_count": null,
   "metadata": {},
   "outputs": [],
   "source": []
  },
  {
   "cell_type": "markdown",
   "metadata": {},
   "source": [
    "# Load files\n",
    "Here we load given data"
   ]
  },
  {
   "cell_type": "code",
   "execution_count": null,
   "metadata": {},
   "outputs": [],
   "source": [
    "# %load grid.py\n",
    "import bisect\n",
    "\n",
    "## Grid parameters\n",
    "# Top left corner of the area\n",
    "MAP_LAT = 46.5\n",
    "MAP_LON = 6.55\n",
    "\n",
    "# Total area size\n",
    "MAP_SIZE_LAT = 0.07\n",
    "MAP_SIZE_LON = 0.10\n",
    "\n",
    "# Number of cells\n",
    "CELL_NUM_LAT = 10\n",
    "CELL_NUM_LON = 10\n",
    "\n",
    "# Grid lines\n",
    "GRID_LAT_POINTS = [MAP_LAT + i * (MAP_SIZE_LAT / CELL_NUM_LAT)\n",
    "                   for i in range(1, CELL_NUM_LAT + 1)]\n",
    "GRID_LON_POINTS = [MAP_LON + i * (MAP_SIZE_LON / CELL_NUM_LON)\n",
    "                   for i in range(1, CELL_NUM_LON + 1)]\n",
    "\n",
    "\n",
    "def location_to_cell_id(lat, lon):\n",
    "    \"\"\"Get the grid cell ID for a given latitude and longitude.\"\"\"\n",
    "    if not (MAP_LAT <= lat < MAP_LAT + MAP_SIZE_LAT) or not (\n",
    "        MAP_LON <= lon < MAP_LON + MAP_SIZE_LON\n",
    "    ):\n",
    "        raise ValueError(\"Out of area range.\")\n",
    "\n",
    "    i = bisect.bisect(GRID_LAT_POINTS, lat)\n",
    "    j = bisect.bisect(GRID_LON_POINTS, lon)\n",
    "    return i * CELL_NUM_LAT + j + 1\n"
   ]
  },
  {
   "cell_type": "code",
   "execution_count": null,
   "metadata": {},
   "outputs": [],
   "source": [
    "f_queries = open(\"queries.csv\", \"r\")\n",
    "queries = f_queries.read()\n",
    "\n",
    "f_pois = open(\"pois.csv\", \"r\")\n",
    "pois = f_pois.read()"
   ]
  },
  {
   "cell_type": "markdown",
   "metadata": {},
   "source": [
    "# Functions to analyze data"
   ]
  },
  {
   "cell_type": "code",
   "execution_count": null,
   "metadata": {},
   "outputs": [],
   "source": [
    "# some useful function\n",
    "\n",
    "def is_weekend_day(float_nb):\n",
    "    #return boolean of if the time is a time of a weekend day\n",
    "    return (float_nb>=120 and float_nb<=168) or (float_nb>=288 and float_nb<=336) or (float_nb>=456)\n",
    "\n",
    "def is_weekday(float_nb):\n",
    "    #return boolean of if the time is a time of no-weekend day\n",
    "    return not is_weekend_day(float_nb)\n",
    "\n",
    "def is_worktime(float_nb):\n",
    "    #worktime = between 9->12 and 14->17h \n",
    "    #return boolean: is the time during the slot of time where users are usually at work\n",
    "    return is_weekday(float_nb)and(((float_nb%24>=9)and(float_nb%24<12))or((float_nb%24>=14)and(float_nb%24<17)))\n",
    "\n",
    "def is_hometime(float_nb):\n",
    "    #hometime = weekend or between 10PM -> 6AM\n",
    "    #return boolean: is the time during the slot of time where users are usually at home\n",
    "    return (is_weekday(float_nb)and((float_nb%24<=6) or (float_nb%24>=22)))\n",
    "    #is_weekend_day(float_nb)or"
   ]
  },
  {
   "cell_type": "code",
   "execution_count": null,
   "metadata": {},
   "outputs": [],
   "source": [
    "#some functions given a ip address: \n",
    "#here the format of everything_list is assumed to be list[list[ip_add, lat, lon, timestamp, poi]] everythin as string\n",
    "\n",
    "def get_pois(ip, everything_list):\n",
    "    #return set of pois of given IP adress (user)\n",
    "    return set([x[4] for x in everything_list if(x[0]==ip)])\n",
    "\n",
    "def get_positions(ip, everything_list):\n",
    "    #return all position of an ip adress: the format is a tuple of (list(all_x_axe_positions), list(y_positions))\n",
    "    l = [(float(x[1]), float(x[2])) for x in everything_list if(x[0]==ip)]\n",
    "    return ([i for i,j in l], [j for i,j in l])\n",
    "\n",
    "def get_positions_work(ip, everything_list):\n",
    "    #return all position of an ip adress at work: \n",
    "    #the format is a tuple of (list(all_x_axe_positions), list(y_positions))\n",
    "    l = [(float(x[1]), float(x[2])) for x in everything_list if(x[0]==ip and is_worktime(float(x[3])))]\n",
    "    return ([i for i,j in l], [j for i,j in l])\n",
    "\n",
    "def get_positions_home(ip, everything_list):\n",
    "    #return all position of an ip adress at home: \n",
    "    #the format is a tuple of (list(all_x_axe_positions), list(y_positions))\n",
    "    set_all = set([(float(x[1]), float(x[2])) for x in everything_list if(x[0]==ip)])\n",
    "    set_work = set([(float(x[1]), float(x[2])) for x in everything_list if(x[0]==ip and is_worktime(float(x[3])))])\n",
    "    #l = [(float(x[1]), float(x[2])) for x in everything_list if(x[0]==ip and not(is_worktime(float(x[3]))))]\n",
    "    l =list(set_all-set_work)\n",
    "    return ([i for i,j in l], [j for i,j in l])\n",
    "    \n",
    "\n",
    "def get_work_pois(ip, everything_list):\n",
    "    #return POis a given IP adress look at when he is at work\n",
    "    return set([x[4] for x in everything_list if(x[0]==ip and is_worktime(float(x[3])))])\n",
    "\n",
    "def get_hobby_pois(ip, everything_list):\n",
    "    #return POis a given IP adress look at when he is not at work\n",
    "    return set([x[4] for x in everything_list if(x[0]==ip and not(is_worktime(float(x[3]))))])\n",
    "\n",
    "def get_work_cell(ip, everything_list):\n",
    "    #return cell id of a user when he is at work\n",
    "    l = [(float(x[1]), float(x[2])) for x in everything_list if(x[0]==ip and is_worktime(float(x[3])))]\n",
    "    return set([location_to_cell_id(x, y) for x,y in l])\n",
    "\n",
    "def get_home_cell(ip, everything_list):\n",
    "    #return cell id of a user when he is at work\n",
    "    l = [(float(x[1]), float(x[2])) for x in everything_list if(x[0]==ip and is_hometime(float(x[3])))]\n",
    "    return set([location_to_cell_id(x, y) for x,y in l])\n",
    "    \n",
    "    \n",
    "    \n",
    "    "
   ]
  },
  {
   "cell_type": "code",
   "execution_count": null,
   "metadata": {},
   "outputs": [],
   "source": [
    "#loading all possible ip addresses\n",
    "with open(\"queries.csv\", \"r\") as f_queries:\n",
    "    queries = f_queries.readlines()\n",
    "    \n",
    "    queries = [q.split() for q in queries][1:]\n",
    "    \n",
    "    ip_set = set([x[0] for x in queries])\n"
   ]
  },
  {
   "cell_type": "code",
   "execution_count": null,
   "metadata": {
    "scrolled": true
   },
   "outputs": [],
   "source": [
    "#loading all possible pois\n",
    "with open(\"pois.csv\", \"r\") as f_pois:\n",
    "    pois = f_pois.readlines()\n",
    "    pois = [p.split() for p in pois][1:]\n",
    "\n",
    "all_pois = set([x[2] for x in pois])\n",
    "\n",
    "print(len(all_pois))\n",
    "print(all_pois)"
   ]
  },
  {
   "cell_type": "markdown",
   "metadata": {},
   "source": [
    "# Graph drawing\n",
    "first we create random colors for each user"
   ]
  },
  {
   "cell_type": "code",
   "execution_count": null,
   "metadata": {},
   "outputs": [],
   "source": [
    "users_number = 10"
   ]
  },
  {
   "cell_type": "code",
   "execution_count": null,
   "metadata": {},
   "outputs": [],
   "source": [
    "colors = [\"#\"+''.join([random.choice('0123456789ABCDEF') for j in range(6)])\n",
    "             for i in range(users_number)]"
   ]
  },
  {
   "cell_type": "markdown",
   "metadata": {},
   "source": [
    "## Total locations of users graph"
   ]
  },
  {
   "cell_type": "code",
   "execution_count": null,
   "metadata": {
    "scrolled": false
   },
   "outputs": [],
   "source": [
    "#total locations of n users \n",
    "data = [get_positions(ip, queries) for ip in list(ip_set)[:users_number]]\n",
    "\n",
    "\n",
    "grid_elem_lat = [MAP_LAT]\n",
    "grid_elem_lat.extend(GRID_LAT_POINTS)\n",
    "lat_space = grid_elem_lat[1]-grid_elem_lat[0]\n",
    "\n",
    "\n",
    "grid_elem_lon = [MAP_LON]\n",
    "grid_elem_lon.extend(GRID_LON_POINTS)\n",
    "lon_space = grid_elem_lon[3]-grid_elem_lon[2]\n",
    "\n",
    "\n",
    "fig, ax = plt.subplots(figsize=(10, 8))\n",
    "\n",
    "\n",
    "for data, color in zip(data, colors):\n",
    "    x, y = data\n",
    "    ax.scatter(x, y, c=color)\n",
    "\n",
    "\n",
    "    \n",
    "ax.set_xlim(grid_elem_lat[0], grid_elem_lat[10])\n",
    "ax.set_ylim(grid_elem_lon[0], grid_elem_lon[10])\n",
    "\n",
    "ax.set_xticks(grid_elem_lat)\n",
    "ax.set_yticks(grid_elem_lon)\n",
    "\n",
    "\n",
    "\n",
    "ax.set_xlabel(\"Latitude\")\n",
    "ax.set_ylabel(\"Longitude\")\n",
    "\n",
    "\n",
    "plt.grid(True)\n",
    "#if you want to save the image\n",
    "#plt.savefig('locations_home10.jpg')\n",
    "plt.show()"
   ]
  },
  {
   "cell_type": "markdown",
   "metadata": {},
   "source": [
    "## Home locations of users graph"
   ]
  },
  {
   "cell_type": "code",
   "execution_count": null,
   "metadata": {
    "scrolled": true
   },
   "outputs": [],
   "source": [
    "#home locations of the same n users \n",
    "data = [get_positions_home(ip, queries) for ip in list(ip_set)[:users_number]]\n",
    "\n",
    "\n",
    "grid_elem_lat = [MAP_LAT]\n",
    "grid_elem_lat.extend(GRID_LAT_POINTS)\n",
    "lat_space = grid_elem_lat[1]-grid_elem_lat[0]\n",
    "\n",
    "\n",
    "grid_elem_lon = [MAP_LON]\n",
    "grid_elem_lon.extend(GRID_LON_POINTS)\n",
    "lon_space = grid_elem_lon[3]-grid_elem_lon[2]\n",
    "\n",
    "\n",
    "fig, ax = plt.subplots(figsize=(10, 8))\n",
    "\n",
    "\n",
    "for data, color in zip(data, colors):\n",
    "    x, y = data\n",
    "    ax.scatter(x, y, c=color)\n",
    "\n",
    "\n",
    "    \n",
    "ax.set_xlim(grid_elem_lat[0], grid_elem_lat[10])\n",
    "ax.set_ylim(grid_elem_lon[0], grid_elem_lon[10])\n",
    "\n",
    "ax.set_xticks(grid_elem_lat)\n",
    "ax.set_yticks(grid_elem_lon)\n",
    "\n",
    "\n",
    "\n",
    "ax.set_xlabel(\"Latitude\")\n",
    "ax.set_ylabel(\"Longitude\")\n",
    "\n",
    "\n",
    "plt.grid(True)\n",
    "#if you want to save the image\n",
    "#plt.savefig('locations_home10.jpg')\n",
    "plt.show()"
   ]
  },
  {
   "cell_type": "markdown",
   "metadata": {},
   "source": [
    "## Work locations of users graph"
   ]
  },
  {
   "cell_type": "code",
   "execution_count": null,
   "metadata": {
    "scrolled": true
   },
   "outputs": [],
   "source": [
    "#work locations of the same n users \n",
    "data = [get_positions_work(ip, queries) for ip in list(ip_set)[:users_number]]\n",
    "\n",
    "\n",
    "grid_elem_lat = [MAP_LAT]\n",
    "grid_elem_lat.extend(GRID_LAT_POINTS)\n",
    "lat_space = grid_elem_lat[1]-grid_elem_lat[0]\n",
    "\n",
    "\n",
    "grid_elem_lon = [MAP_LON]\n",
    "grid_elem_lon.extend(GRID_LON_POINTS)\n",
    "lon_space = grid_elem_lon[3]-grid_elem_lon[2]\n",
    "\n",
    "\n",
    "fig, ax = plt.subplots(figsize=(10, 8))\n",
    "\n",
    "\n",
    "for data, color in zip(data, colors):\n",
    "    x, y = data\n",
    "    ax.scatter(x, y, c=color)\n",
    "\n",
    "\n",
    "    \n",
    "ax.set_xlim(grid_elem_lat[0], grid_elem_lat[10])\n",
    "ax.set_ylim(grid_elem_lon[0], grid_elem_lon[10])\n",
    "\n",
    "ax.set_xticks(grid_elem_lat)\n",
    "ax.set_yticks(grid_elem_lon)\n",
    "\n",
    "\n",
    "\n",
    "ax.set_xlabel(\"Latitude\")\n",
    "ax.set_ylabel(\"Longitude\")\n",
    "\n",
    "\n",
    "plt.grid(True)\n",
    "#if you want to save the image\n",
    "#plt.savefig('locations_home10.jpg')\n",
    "plt.show()"
   ]
  },
  {
   "cell_type": "markdown",
   "metadata": {},
   "source": [
    "# POis table of users"
   ]
  },
  {
   "cell_type": "code",
   "execution_count": null,
   "metadata": {},
   "outputs": [],
   "source": [
    "users_number = 10\n",
    "\n",
    "data = [[ip, get_pois(ip, queries)] for ip in list(ip_set)[:users_number]]\n",
    "\n",
    "t = PrettyTable(['ip address', 'POIs'])\n",
    "\n",
    "for row in data:\n",
    "    t.add_row(row)\n",
    "    \n",
    "print(t)"
   ]
  },
  {
   "cell_type": "code",
   "execution_count": null,
   "metadata": {},
   "outputs": [],
   "source": []
  }
 ],
 "metadata": {
  "kernelspec": {
   "display_name": "Python 3",
   "language": "python",
   "name": "python3"
  },
  "language_info": {
   "codemirror_mode": {
    "name": "ipython",
    "version": 3
   },
   "file_extension": ".py",
   "mimetype": "text/x-python",
   "name": "python",
   "nbconvert_exporter": "python",
   "pygments_lexer": "ipython3",
   "version": "3.7.3"
  }
 },
 "nbformat": 4,
 "nbformat_minor": 1
}
